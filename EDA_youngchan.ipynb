{
 "cells": [
  {
   "cell_type": "code",
   "execution_count": 3,
   "metadata": {},
   "outputs": [
    {
     "name": "stdout",
     "output_type": "stream",
     "text": [
      "----------------------------------director----------------------------------\n",
      "   item   director\n",
      "0  1237  nm0000005\n",
      "1  5147  nm0000005\n",
      "2  7327  nm0000005\n",
      "3  2068  nm0000005\n",
      "4  7396  nm0000005\n",
      "----------------------------------genre----------------------------------\n",
      "   item     genre\n",
      "0   318     Crime\n",
      "1   318     Drama\n",
      "2  2571    Action\n",
      "3  2571    Sci-Fi\n",
      "4  2571  Thriller\n",
      "----------------------------------title----------------------------------\n",
      "   item                             title\n",
      "0   318  Shawshank Redemption, The (1994)\n",
      "1  2571                Matrix, The (1999)\n",
      "2  2959                 Fight Club (1999)\n",
      "3   296               Pulp Fiction (1994)\n",
      "4   356               Forrest Gump (1994)\n",
      "----------------------------------writer----------------------------------\n",
      "   item     writer\n",
      "0  1237  nm0000005\n",
      "1  5147  nm0000005\n",
      "2  7327  nm0000005\n",
      "3  2068  nm0000005\n",
      "4  7396  nm0000005\n",
      "----------------------------------year----------------------------------\n",
      "    item  year\n",
      "0   1348  1922\n",
      "1  44587  1922\n",
      "2   4768  1922\n",
      "3   8235  1923\n",
      "4   8609  1923\n",
      "----------------------------------rating----------------------------------\n",
      "   user  item        time\n",
      "0    11  4643  1230782529\n",
      "1    11   170  1230782534\n",
      "2    11   531  1230782539\n",
      "3    11   616  1230782542\n",
      "4    11  2140  1230782563\n"
     ]
    }
   ],
   "source": [
    "# directors.tsv  genres.tsv  titles.tsv  train_ratings.csv  writers.tsv  years.tsv\n",
    "import pandas as pd\n",
    "\n",
    "\n",
    "file_path = './../../data/train/'\n",
    "director_df = pd.read_csv(file_path + 'directors.tsv', delimiter='\\t')\n",
    "print(\"----------------------------------director----------------------------------\")\n",
    "print(director_df.head())\n",
    "genre_df = pd.read_csv(file_path + 'genres.tsv', delimiter='\\t')\n",
    "print(\"----------------------------------genre----------------------------------\")\n",
    "print(genre_df.head())\n",
    "title_df = pd.read_csv(file_path + 'titles.tsv', delimiter='\\t')\n",
    "print(\"----------------------------------title----------------------------------\")\n",
    "print(title_df.head())\n",
    "writer_df = pd.read_csv(file_path + 'writers.tsv', delimiter='\\t')\n",
    "print(\"----------------------------------writer----------------------------------\")\n",
    "print(writer_df.head())\n",
    "year_df = pd.read_csv(file_path + 'years.tsv', delimiter='\\t')\n",
    "print(\"----------------------------------year----------------------------------\")\n",
    "print(year_df.head())\n",
    "\n",
    "rating_df = pd.read_csv(file_path + 'train_ratings.csv')\n",
    "print(\"----------------------------------rating----------------------------------\")\n",
    "print(rating_df.head())\n",
    "\n",
    "!pip install --upgrade numpy scikit-learn\n"
   ]
  },
  {
   "cell_type": "code",
   "execution_count": null,
   "metadata": {},
   "outputs": [],
   "source": []
  }
 ],
 "metadata": {
  "kernelspec": {
   "display_name": "base",
   "language": "python",
   "name": "python3"
  },
  "language_info": {
   "codemirror_mode": {
    "name": "ipython",
    "version": 3
   },
   "file_extension": ".py",
   "mimetype": "text/x-python",
   "name": "python",
   "nbconvert_exporter": "python",
   "pygments_lexer": "ipython3",
   "version": "3.10.13"
  }
 },
 "nbformat": 4,
 "nbformat_minor": 2
}
}

