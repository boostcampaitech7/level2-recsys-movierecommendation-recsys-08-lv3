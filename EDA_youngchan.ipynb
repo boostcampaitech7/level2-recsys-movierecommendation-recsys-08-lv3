{
 "cells": [
  {
   "cell_type": "code",
   "execution_count": null,
   "metadata": {},
   "outputs": [
    {
     "name": "stdout",
     "output_type": "stream",
     "text": [
      "   item                             title    year   genre   director  \\\n",
      "0   318  Shawshank Redemption, The (1994)  1994.0   Crime  nm0001104   \n",
      "1   318  Shawshank Redemption, The (1994)  1994.0   Crime  nm0001104   \n",
      "2   318  Shawshank Redemption, The (1994)  1994.0   Drama  nm0001104   \n",
      "3   318  Shawshank Redemption, The (1994)  1994.0   Drama  nm0001104   \n",
      "4  2571                Matrix, The (1999)  1999.0  Action  nm0905152   \n",
      "\n",
      "      writer  \n",
      "0  nm0000175  \n",
      "1  nm0001104  \n",
      "2  nm0000175  \n",
      "3  nm0001104  \n",
      "4  nm0905152  \n"
     ]
    }
   ],
   "source": [
    "import pandas as pd\n",
    "\n",
    "path = \"./../../data/train/\"\n",
    "\n",
    "# Ml_item2attributes.json  directors.tsv  genres.tsv  titles.tsv  train_ratings.csv  writers.tsv  years.tsv\n",
    "\n",
    "# Load data\n",
    "titles = pd.read_csv(path + \"titles.tsv\", sep=\"\\t\")\n",
    "years = pd.read_csv(path + \"years.tsv\", sep=\"\\t\")\n",
    "genres = pd.read_csv(path + \"genres.tsv\", sep=\"\\t\")\n",
    "directors = pd.read_csv(path + \"directors.tsv\", sep=\"\\t\")\n",
    "writers = pd.read_csv(path + \"writers.tsv\", sep=\"\\t\")\n",
    "\n",
    "\n",
    "ratings = pd.read_csv(path + \"train_ratings.csv\")\n",
    "\n",
    "# Merge data\n",
    "\n",
    "movie_df = pd.merge(titles, years, on=\"item\", how=\"left\")\n",
    "movie_df = pd.merge(movie_df, genres, on=\"item\", how=\"left\")\n",
    "movie_df = pd.merge(movie_df, directors, on=\"item\", how=\"left\")\n",
    "movie_df = pd.merge(movie_df, writers, on=\"item\", how=\"left\")\n",
    "\n",
    "# Group by 'item' and aggregate genres and writers\n",
    "movie_df = movie_df.groupby(['item', 'title', 'year', 'director']).agg({\n",
    "    'genre': lambda x: ', '.join(x.unique()),\n",
    "    'writer': lambda x: ', '.join(x.unique())\n",
    "}).reset_index()\n",
    "\n",
    "print(movie_df.head())\n"
   ]
  },
  {
   "cell_type": "code",
   "execution_count": null,
   "metadata": {},
   "outputs": [],
   "source": [
    "\"\""
   ]
  }
 ],
 "metadata": {
  "kernelspec": {
   "display_name": "base",
   "language": "python",
   "name": "python3"
  },
  "language_info": {
   "codemirror_mode": {
    "name": "ipython",
    "version": 3
   },
   "file_extension": ".py",
   "mimetype": "text/x-python",
   "name": "python",
   "nbconvert_exporter": "python",
   "pygments_lexer": "ipython3",
   "version": "3.10.13"
  }
 },
 "nbformat": 4,
 "nbformat_minor": 2
}
