{
 "cells": [
  {
   "cell_type": "code",
   "execution_count": 1,
   "metadata": {},
   "outputs": [],
   "source": [
    "import os\n",
    "import pandas as pd\n",
    "import json\n",
    "import numpy as np"
   ]
  },
  {
   "cell_type": "code",
   "execution_count": 2,
   "metadata": {},
   "outputs": [],
   "source": [
    "data_path = \"/data/ephemeral/home/lee/level2-recsys-movierecommendation-recsys-08-lv3/data/train/\"\n",
    "\n",
    "train_rating = pd.read_csv(os.path.join(data_path, \"train_ratings.csv\"))\n",
    "\n",
    "title = pd.read_csv(os.path.join(data_path, \"titles.tsv\"), sep='\\t')\n",
    "\n",
    "year = pd.read_csv(os.path.join(data_path, \"years.tsv\"), sep='\\t')\n",
    "\n",
    "director = pd.read_csv(os.path.join(data_path, \"directors.tsv\"), sep='\\t')\n",
    "\n",
    "genre = pd.read_csv(os.path.join(data_path, \"genres.tsv\"), sep='\\t')\n",
    "\n",
    "writer = pd.read_csv(os.path.join(data_path, \"writers.tsv\"), sep='\\t')\n",
    "\n",
    "with open(os.path.join(data_path, \"Ml_item2attributes.json\"), \"r\") as file:\n",
    "    data = json.load(file)\n",
    "\n",
    "Ml_item2attribute = pd.DataFrame.from_dict(data, orient='index')"
   ]
  },
  {
   "cell_type": "markdown",
   "metadata": {},
   "source": [
    "### train_rating"
   ]
  },
  {
   "cell_type": "code",
   "execution_count": 3,
   "metadata": {},
   "outputs": [
    {
     "name": "stdout",
     "output_type": "stream",
     "text": [
      "<class 'pandas.core.frame.DataFrame'>\n",
      "RangeIndex: 5154471 entries, 0 to 5154470\n",
      "Data columns (total 3 columns):\n",
      " #   Column  Dtype\n",
      "---  ------  -----\n",
      " 0   user    int64\n",
      " 1   item    int64\n",
      " 2   time    int64\n",
      "dtypes: int64(3)\n",
      "memory usage: 118.0 MB\n",
      "None\n",
      "*****************************************************************\n",
      "   user  item        time\n",
      "0    11  4643  1230782529\n",
      "1    11   170  1230782534\n",
      "2    11   531  1230782539\n",
      "3    11   616  1230782542\n",
      "4    11  2140  1230782563\n"
     ]
    }
   ],
   "source": [
    "print(train_rating.info())\n",
    "print(\"*****************************************************************\")\n",
    "print(train_rating.head())"
   ]
  },
  {
   "cell_type": "code",
   "execution_count": 4,
   "metadata": {},
   "outputs": [
    {
     "name": "stdout",
     "output_type": "stream",
     "text": [
      "31360\n",
      "6807\n"
     ]
    }
   ],
   "source": [
    "num_train_users = train_rating['user'].nunique()\n",
    "num_train_items = train_rating['item'].nunique()\n",
    "\n",
    "print(num_train_users)\n",
    "print(num_train_items)"
   ]
  },
  {
   "cell_type": "code",
   "execution_count": 5,
   "metadata": {},
   "outputs": [
    {
     "name": "stdout",
     "output_type": "stream",
     "text": [
      "user    0\n",
      "item    0\n",
      "time    0\n",
      "dtype: int64\n"
     ]
    }
   ],
   "source": [
    "print(train_rating.isnull().sum())"
   ]
  },
  {
   "cell_type": "code",
   "execution_count": 6,
   "metadata": {},
   "outputs": [
    {
     "name": "stdout",
     "output_type": "stream",
     "text": [
      "user\n",
      "11    376\n",
      "14    180\n",
      "18     77\n",
      "25     91\n",
      "31    154\n",
      "Name: item, dtype: int64\n"
     ]
    }
   ],
   "source": [
    "each_user_item = train_rating.groupby('user')['item'].size()\n",
    "\n",
    "print(each_user_item.head())"
   ]
  },
  {
   "cell_type": "code",
   "execution_count": 7,
   "metadata": {},
   "outputs": [
    {
     "name": "stdout",
     "output_type": "stream",
     "text": [
      "count    31360.000000\n",
      "mean       164.364509\n",
      "std        150.009107\n",
      "min         16.000000\n",
      "25%         71.000000\n",
      "50%        114.000000\n",
      "75%        200.000000\n",
      "max       2912.000000\n",
      "Name: item, dtype: float64\n"
     ]
    }
   ],
   "source": [
    "print(each_user_item.describe())"
   ]
  },
  {
   "cell_type": "code",
   "execution_count": 8,
   "metadata": {},
   "outputs": [
    {
     "name": "stdout",
     "output_type": "stream",
     "text": [
      "1427781052\n",
      "1113220585\n"
     ]
    }
   ],
   "source": [
    "min_time = train_rating['time'].min()\n",
    "max_time = train_rating['time'].max()\n",
    "print(max_time)\n",
    "print(min_time)"
   ]
  },
  {
   "cell_type": "code",
   "execution_count": 9,
   "metadata": {},
   "outputs": [],
   "source": [
    "from datetime import datetime\n",
    "import matplotlib.pyplot as plt"
   ]
  },
  {
   "cell_type": "code",
   "execution_count": 10,
   "metadata": {},
   "outputs": [
    {
     "name": "stdout",
     "output_type": "stream",
     "text": [
      "2005-04-11 11:56:25\n",
      "2015-03-31 05:50:52\n"
     ]
    }
   ],
   "source": [
    "fix_min_time = datetime.fromtimestamp(min_time)\n",
    "fix_max_time = datetime.fromtimestamp(max_time)\n",
    "print(fix_min_time)\n",
    "print(fix_max_time)\n",
    "# 유닉스 타임스탬프(Unix Timestamp)를 사람이 읽을 수 있는 날짜와 시간(datetime 객체)으로 변환"
   ]
  },
  {
   "cell_type": "code",
   "execution_count": 11,
   "metadata": {},
   "outputs": [
    {
     "name": "stdout",
     "output_type": "stream",
     "text": [
      "True\n"
     ]
    }
   ],
   "source": [
    "check_time_sort = train_rating.groupby('user')['time'].apply(lambda x: x.is_monotonic_increasing).all()\n",
    "print(check_time_sort)"
   ]
  },
  {
   "cell_type": "code",
   "execution_count": 12,
   "metadata": {},
   "outputs": [
    {
     "name": "stdout",
     "output_type": "stream",
     "text": [
      "   user  item        time           timestamp  user_year  user_month  \\\n",
      "0    11  4643  1230782529 2009-01-01 04:02:09       2009           1   \n",
      "1    11   170  1230782534 2009-01-01 04:02:14       2009           1   \n",
      "2    11   531  1230782539 2009-01-01 04:02:19       2009           1   \n",
      "3    11   616  1230782542 2009-01-01 04:02:22       2009           1   \n",
      "4    11  2140  1230782563 2009-01-01 04:02:43       2009           1   \n",
      "5    11  2722  1230782583 2009-01-01 04:03:03       2009           1   \n",
      "6    11  2313  1230782646 2009-01-01 04:04:06       2009           1   \n",
      "7    11  2688  1230782656 2009-01-01 04:04:16       2009           1   \n",
      "8    11  2428  1230782694 2009-01-01 04:04:54       2009           1   \n",
      "9    11  3113  1230782719 2009-01-01 04:05:19       2009           1   \n",
      "\n",
      "   user_day_of_week  user_hour  \n",
      "0                 3          4  \n",
      "1                 3          4  \n",
      "2                 3          4  \n",
      "3                 3          4  \n",
      "4                 3          4  \n",
      "5                 3          4  \n",
      "6                 3          4  \n",
      "7                 3          4  \n",
      "8                 3          4  \n",
      "9                 3          4  \n"
     ]
    }
   ],
   "source": [
    "train_rating_check = train_rating.copy()\n",
    "train_rating_check['timestamp'] = pd.to_datetime(train_rating_check['time'], unit='s')\n",
    "train_rating_check['user_year'] = train_rating_check['timestamp'].dt.year\n",
    "train_rating_check['user_month'] = train_rating_check['timestamp'].dt.month\n",
    "train_rating_check['user_day_of_week'] = train_rating_check['timestamp'].dt.dayofweek\n",
    "train_rating_check['user_hour'] = train_rating_check['timestamp'].dt.hour\n",
    "\n",
    "print(train_rating_check.head(10))"
   ]
  },
  {
   "cell_type": "code",
   "execution_count": 13,
   "metadata": {},
   "outputs": [
    {
     "data": {
      "image/png": "[encoded data removed]",
      "text/plain": [
       "<Figure size 640x480 with 1 Axes>"
      ]
     },
     "metadata": {},
     "output_type": "display_data"
    }
   ],
   "source": [
    "year_activity = train_rating_check.groupby('user_year')['user'].count()\n",
    "year_activity.plot(kind='bar', title='year user activity')\n",
    "plt.xlabel('year')\n",
    "plt.ylabel('user_num')\n",
    "plt.show()"
   ]
  },
  {
   "cell_type": "code",
   "execution_count": 14,
   "metadata": {},
   "outputs": [
    {
     "data": {
      "image/png": "[encoded data removed]",
      "text/plain": [
       "<Figure size 640x480 with 1 Axes>"
      ]
     },
     "metadata": {},
     "output_type": "display_data"
    }
   ],
   "source": [
    "month_activity = train_rating_check.groupby('user_month')['user'].count()\n",
    "month_activity.plot(kind='bar', title='month user activity')\n",
    "plt.xlabel('month')\n",
    "plt.ylabel('user_num')\n",
    "plt.show()"
   ]
  },
  {
   "cell_type": "code",
   "execution_count": 15,
   "metadata": {},
   "outputs": [
    {
     "data": {
      "image/png": "[encoded data removed]",
      "text/plain": [
       "<Figure size 640x480 with 1 Axes>"
      ]
     },
     "metadata": {},
     "output_type": "display_data"
    }
   ],
   "source": [
    "day_activity = train_rating_check.groupby('user_day_of_week')['user'].count()\n",
    "day_activity.plot(kind='bar', title='month user activity')\n",
    "plt.xlabel('day')\n",
    "plt.ylabel('user_num')\n",
    "plt.show()"
   ]
  },
  {
   "cell_type": "code",
   "execution_count": 16,
   "metadata": {},
   "outputs": [
    {
     "data": {
      "image/png": "[encoded data removed]",
      "text/plain": [
       "<Figure size 640x480 with 1 Axes>"
      ]
     },
     "metadata": {},
     "output_type": "display_data"
    }
   ],
   "source": [
    "hour_activity = train_rating_check.groupby('user_hour')['user'].count()\n",
    "hour_activity.plot(kind='bar', title='hour user activity')\n",
    "plt.xlabel('hour')\n",
    "plt.ylabel('user_num')\n",
    "plt.show()"
   ]
  },
  {
   "cell_type": "code",
   "execution_count": 17,
   "metadata": {},
   "outputs": [
    {
     "name": "stdout",
     "output_type": "stream",
     "text": [
      "0.9758536052697853\n"
     ]
    }
   ],
   "source": [
    "# Data sparsity ratio\n",
    "print(1 - len(train_rating) / (num_train_users * num_train_items))"
   ]
  },
  {
   "cell_type": "code",
   "execution_count": 18,
   "metadata": {},
   "outputs": [
    {
     "name": "stdout",
     "output_type": "stream",
     "text": [
      "0\n",
      "79498\n"
     ]
    }
   ],
   "source": [
    "print(train_rating.duplicated().sum())\n",
    "print(train_rating['time'].duplicated().sum())"
   ]
  },
  {
   "cell_type": "code",
   "execution_count": 19,
   "metadata": {},
   "outputs": [
    {
     "name": "stdout",
     "output_type": "stream",
     "text": [
      "              mean           std  min         max\n",
      "user                                             \n",
      "11    1.707030e+05  2.480495e+06  0.0  43624889.0\n",
      "14    6.594413e+01  2.253215e+02  2.0      2433.0\n",
      "18    1.155960e+06  3.952554e+06  3.0  22989763.0\n",
      "25    3.204444e+01  7.956623e+01  2.0       513.0\n",
      "31    2.414379e+01  3.912319e+01  2.0       220.0\n"
     ]
    }
   ],
   "source": [
    "train_rating_check['time_diff'] = train_rating_check.groupby('user')['timestamp'].diff().dt.total_seconds()\n",
    "user_time = train_rating_check.groupby('user')['time_diff'].agg(['mean', 'std', 'min', 'max'])\n",
    "print(user_time.head())"
   ]
  },
  {
   "cell_type": "markdown",
   "metadata": {},
   "source": [
    "### year"
   ]
  },
  {
   "cell_type": "code",
   "execution_count": 20,
   "metadata": {},
   "outputs": [
    {
     "name": "stdout",
     "output_type": "stream",
     "text": [
      "<class 'pandas.core.frame.DataFrame'>\n",
      "RangeIndex: 6799 entries, 0 to 6798\n",
      "Data columns (total 2 columns):\n",
      " #   Column  Non-Null Count  Dtype\n",
      "---  ------  --------------  -----\n",
      " 0   item    6799 non-null   int64\n",
      " 1   year    6799 non-null   int64\n",
      "dtypes: int64(2)\n",
      "memory usage: 106.4 KB\n",
      "None\n",
      "*****************************************************************\n",
      "    item  year\n",
      "0   1348  1922\n",
      "1  44587  1922\n",
      "2   4768  1922\n",
      "3   8235  1923\n",
      "4   8609  1923\n"
     ]
    }
   ],
   "source": [
    "print(year.info())\n",
    "print(\"*****************************************************************\")\n",
    "print(year.head())"
   ]
  },
  {
   "cell_type": "code",
   "execution_count": 21,
   "metadata": {},
   "outputs": [
    {
     "name": "stdout",
     "output_type": "stream",
     "text": [
      "unique한 item 개수:  6799\n",
      "unique한 year 개수:  93\n",
      "max year:  2014\n",
      "min year:  1922\n",
      "*******************************************************\n",
      "count    6799.000000\n",
      "mean     1992.174732\n",
      "std        19.052568\n",
      "min      1922.000000\n",
      "25%      1985.000000\n",
      "50%      1999.000000\n",
      "75%      2006.000000\n",
      "max      2014.000000\n",
      "Name: year, dtype: float64\n"
     ]
    }
   ],
   "source": [
    "print(\"unique한 item 개수: \", year['item'].nunique())\n",
    "print(\"unique한 year 개수: \", year['year'].nunique())\n",
    "print(\"max year: \", year['year'].max())\n",
    "print(\"min year: \", year['year'].min())\n",
    "print(\"*******************************************************\")\n",
    "print(year['year'].describe())"
   ]
  },
  {
   "cell_type": "markdown",
   "metadata": {},
   "source": [
    "### writer"
   ]
  },
  {
   "cell_type": "code",
   "execution_count": 22,
   "metadata": {},
   "outputs": [
    {
     "name": "stdout",
     "output_type": "stream",
     "text": [
      "<class 'pandas.core.frame.DataFrame'>\n",
      "RangeIndex: 11306 entries, 0 to 11305\n",
      "Data columns (total 2 columns):\n",
      " #   Column  Non-Null Count  Dtype \n",
      "---  ------  --------------  ----- \n",
      " 0   item    11306 non-null  int64 \n",
      " 1   writer  11306 non-null  object\n",
      "dtypes: int64(1), object(1)\n",
      "memory usage: 176.8+ KB\n",
      "None\n",
      "*****************************************************************\n",
      "   item     writer\n",
      "0  1237  nm0000005\n",
      "1  5147  nm0000005\n",
      "2  7327  nm0000005\n",
      "3  2068  nm0000005\n",
      "4  7396  nm0000005\n"
     ]
    }
   ],
   "source": [
    "print(writer.info())\n",
    "print(\"*****************************************************************\")\n",
    "print(writer.head())"
   ]
  },
  {
   "cell_type": "code",
   "execution_count": 23,
   "metadata": {},
   "outputs": [
    {
     "name": "stdout",
     "output_type": "stream",
     "text": [
      "unique한 item 개수:  5648\n",
      "unique한 writer 개수:  2989\n"
     ]
    }
   ],
   "source": [
    "print(\"unique한 item 개수: \", writer['item'].nunique())\n",
    "print(\"unique한 writer 개수: \", writer['writer'].nunique())"
   ]
  },
  {
   "cell_type": "markdown",
   "metadata": {},
   "source": [
    "### title"
   ]
  },
  {
   "cell_type": "code",
   "execution_count": 24,
   "metadata": {},
   "outputs": [
    {
     "name": "stdout",
     "output_type": "stream",
     "text": [
      "<class 'pandas.core.frame.DataFrame'>\n",
      "RangeIndex: 6807 entries, 0 to 6806\n",
      "Data columns (total 2 columns):\n",
      " #   Column  Non-Null Count  Dtype \n",
      "---  ------  --------------  ----- \n",
      " 0   item    6807 non-null   int64 \n",
      " 1   title   6807 non-null   object\n",
      "dtypes: int64(1), object(1)\n",
      "memory usage: 106.5+ KB\n",
      "None\n",
      "*****************************************************************\n",
      "   item                             title\n",
      "0   318  Shawshank Redemption, The (1994)\n",
      "1  2571                Matrix, The (1999)\n",
      "2  2959                 Fight Club (1999)\n",
      "3   296               Pulp Fiction (1994)\n",
      "4   356               Forrest Gump (1994)\n"
     ]
    }
   ],
   "source": [
    "print(title.info())\n",
    "print(\"*****************************************************************\")\n",
    "print(title.head())"
   ]
  },
  {
   "cell_type": "code",
   "execution_count": 25,
   "metadata": {},
   "outputs": [
    {
     "name": "stdout",
     "output_type": "stream",
     "text": [
      "unique한 item 개수:  6807\n",
      "unique한 title 개수:  6806\n"
     ]
    }
   ],
   "source": [
    "print(\"unique한 item 개수: \", title['item'].nunique())\n",
    "print(\"unique한 title 개수: \", title['title'].nunique())"
   ]
  },
  {
   "cell_type": "code",
   "execution_count": 26,
   "metadata": {},
   "outputs": [
    {
     "name": "stdout",
     "output_type": "stream",
     "text": [
      "title\n",
      "War of the Worlds (2005)    2\n",
      "Name: item, dtype: int64\n"
     ]
    }
   ],
   "source": [
    "duplicates = title.groupby('title')['item'].nunique()\n",
    "duplicates = duplicates[duplicates > 1]\n",
    "print(duplicates)"
   ]
  },
  {
   "cell_type": "code",
   "execution_count": 27,
   "metadata": {},
   "outputs": [
    {
     "name": "stdout",
     "output_type": "stream",
     "text": [
      "[34048 64997]\n"
     ]
    }
   ],
   "source": [
    "check_title = \"War of the Worlds (2005)\"\n",
    "items_for_target = title[title['title'] == check_title]['item'].unique()\n",
    "print(items_for_target)"
   ]
  },
  {
   "cell_type": "markdown",
   "metadata": {},
   "source": [
    "### genre"
   ]
  },
  {
   "cell_type": "code",
   "execution_count": 28,
   "metadata": {},
   "outputs": [
    {
     "name": "stdout",
     "output_type": "stream",
     "text": [
      "<class 'pandas.core.frame.DataFrame'>\n",
      "RangeIndex: 15933 entries, 0 to 15932\n",
      "Data columns (total 2 columns):\n",
      " #   Column  Non-Null Count  Dtype \n",
      "---  ------  --------------  ----- \n",
      " 0   item    15933 non-null  int64 \n",
      " 1   genre   15933 non-null  object\n",
      "dtypes: int64(1), object(1)\n",
      "memory usage: 249.1+ KB\n",
      "None\n",
      "*****************************************************************\n",
      "   item     genre\n",
      "0   318     Crime\n",
      "1   318     Drama\n",
      "2  2571    Action\n",
      "3  2571    Sci-Fi\n",
      "4  2571  Thriller\n"
     ]
    }
   ],
   "source": [
    "print(genre.info())\n",
    "print(\"*****************************************************************\")\n",
    "print(genre.head())"
   ]
  },
  {
   "cell_type": "code",
   "execution_count": 29,
   "metadata": {},
   "outputs": [
    {
     "name": "stdout",
     "output_type": "stream",
     "text": [
      "unique한 item 개수:  6807\n",
      "unique한 genre 개수:  18\n",
      "['Crime' 'Drama' 'Action' 'Sci-Fi' 'Thriller' 'Comedy' 'Romance' 'War'\n",
      " 'Adventure' 'Fantasy' 'Horror' 'Mystery' 'Animation' 'Children'\n",
      " 'Film-Noir' 'Musical' 'Western' 'Documentary']\n"
     ]
    }
   ],
   "source": [
    "print(\"unique한 item 개수: \", genre['item'].nunique())\n",
    "print(\"unique한 genre 개수: \", genre['genre'].nunique())\n",
    "print(genre['genre'].unique())"
   ]
  },
  {
   "cell_type": "markdown",
   "metadata": {},
   "source": [
    "### director"
   ]
  },
  {
   "cell_type": "code",
   "execution_count": 30,
   "metadata": {},
   "outputs": [
    {
     "name": "stdout",
     "output_type": "stream",
     "text": [
      "<class 'pandas.core.frame.DataFrame'>\n",
      "RangeIndex: 5905 entries, 0 to 5904\n",
      "Data columns (total 2 columns):\n",
      " #   Column    Non-Null Count  Dtype \n",
      "---  ------    --------------  ----- \n",
      " 0   item      5905 non-null   int64 \n",
      " 1   director  5905 non-null   object\n",
      "dtypes: int64(1), object(1)\n",
      "memory usage: 92.4+ KB\n",
      "None\n",
      "*****************************************************************\n",
      "   item   director\n",
      "0  1237  nm0000005\n",
      "1  5147  nm0000005\n",
      "2  7327  nm0000005\n",
      "3  2068  nm0000005\n",
      "4  7396  nm0000005\n"
     ]
    }
   ],
   "source": [
    "print(director.info())\n",
    "print(\"*****************************************************************\")\n",
    "print(director.head())"
   ]
  },
  {
   "cell_type": "code",
   "execution_count": 31,
   "metadata": {},
   "outputs": [
    {
     "name": "stdout",
     "output_type": "stream",
     "text": [
      "unique한 item 개수:  5503\n",
      "unique한 director 개수:  1340\n"
     ]
    }
   ],
   "source": [
    "print(\"unique한 item 개수: \", director['item'].nunique())\n",
    "print(\"unique한 director 개수: \", director['director'].nunique())"
   ]
  },
  {
   "cell_type": "markdown",
   "metadata": {},
   "source": [
    "### Ml_item2attribute"
   ]
  },
  {
   "cell_type": "code",
   "execution_count": 32,
   "metadata": {},
   "outputs": [
    {
     "name": "stdout",
     "output_type": "stream",
     "text": [
      "<class 'pandas.core.frame.DataFrame'>\n",
      "Index: 6807 entries, 1 to 119145\n",
      "Data columns (total 10 columns):\n",
      " #   Column  Non-Null Count  Dtype  \n",
      "---  ------  --------------  -----  \n",
      " 0   0       6807 non-null   int64  \n",
      " 1   1       5051 non-null   float64\n",
      " 2   2       2771 non-null   float64\n",
      " 3   3       985 non-null    float64\n",
      " 4   4       259 non-null    float64\n",
      " 5   5       47 non-null     float64\n",
      " 6   6       9 non-null      float64\n",
      " 7   7       2 non-null      float64\n",
      " 8   8       1 non-null      float64\n",
      " 9   9       1 non-null      float64\n",
      "dtypes: float64(9), int64(1)\n",
      "memory usage: 585.0+ KB\n",
      "None\n",
      "*****************************************************************\n",
      "   0     1     2    3    4   5   6   7   8   9\n",
      "1  8  12.0  13.0  5.0  9.0 NaN NaN NaN NaN NaN\n",
      "2  8  13.0   9.0  NaN  NaN NaN NaN NaN NaN NaN\n",
      "3  5   6.0   NaN  NaN  NaN NaN NaN NaN NaN NaN\n",
      "4  5   1.0   6.0  NaN  NaN NaN NaN NaN NaN NaN\n",
      "5  5   NaN   NaN  NaN  NaN NaN NaN NaN NaN NaN\n"
     ]
    }
   ],
   "source": [
    "print(Ml_item2attribute.info())\n",
    "print(\"*****************************************************************\")\n",
    "print(Ml_item2attribute.head())"
   ]
  },
  {
   "cell_type": "code",
   "execution_count": 33,
   "metadata": {},
   "outputs": [],
   "source": [
    "df1 = pd.merge(train_rating, title, on='item', how='left')\n",
    "df2 = pd.merge(df1, year, on='item', how='left')\n",
    "df3 = pd.merge(df2, genre, on='item', how='left')\n",
    "df4 = pd.merge(df3, director, on='item', how='left')\n",
    "df = pd.merge(df4, writer, on='item', how='left')"
   ]
  },
  {
   "cell_type": "code",
   "execution_count": 34,
   "metadata": {},
   "outputs": [
    {
     "data": {
      "text/plain": [
       "user              0\n",
       "item              0\n",
       "time              0\n",
       "title             0\n",
       "year           6920\n",
       "genre             0\n",
       "director    1184231\n",
       "writer       695889\n",
       "dtype: int64"
      ]
     },
     "execution_count": 34,
     "metadata": {},
     "output_type": "execute_result"
    }
   ],
   "source": [
    "df.isnull().sum()"
   ]
  },
  {
   "cell_type": "code",
   "execution_count": 35,
   "metadata": {},
   "outputs": [
    {
     "name": "stdout",
     "output_type": "stream",
     "text": [
      "<class 'pandas.core.frame.DataFrame'>\n",
      "RangeIndex: 48264331 entries, 0 to 48264330\n",
      "Data columns (total 8 columns):\n",
      " #   Column    Dtype  \n",
      "---  ------    -----  \n",
      " 0   user      int64  \n",
      " 1   item      int64  \n",
      " 2   time      int64  \n",
      " 3   title     object \n",
      " 4   year      float64\n",
      " 5   genre     object \n",
      " 6   director  object \n",
      " 7   writer    object \n",
      "dtypes: float64(1), int64(3), object(4)\n",
      "memory usage: 2.9+ GB\n",
      "None\n",
      "************************************\n",
      "   user  item        time                      title    year      genre  \\\n",
      "0    11  4643  1230782529  Planet of the Apes (2001)  2001.0     Action   \n",
      "1    11  4643  1230782529  Planet of the Apes (2001)  2001.0     Action   \n",
      "2    11  4643  1230782529  Planet of the Apes (2001)  2001.0     Action   \n",
      "3    11  4643  1230782529  Planet of the Apes (2001)  2001.0     Action   \n",
      "4    11  4643  1230782529  Planet of the Apes (2001)  2001.0  Adventure   \n",
      "\n",
      "    director     writer  \n",
      "0  nm0000318  nm0099541  \n",
      "1  nm0000318  nm0115310  \n",
      "2  nm0000318  nm0465199  \n",
      "3  nm0000318  nm0742797  \n",
      "4  nm0000318  nm0099541  \n"
     ]
    }
   ],
   "source": [
    "print(df.info())\n",
    "print(\"************************************\")\n",
    "print(df.head())"
   ]
  },
  {
   "cell_type": "code",
   "execution_count": 36,
   "metadata": {},
   "outputs": [
    {
     "name": "stdout",
     "output_type": "stream",
     "text": [
      "unique한 director:  1340\n",
      "unique한 writer:  2989\n",
      "unique한 title:  6806\n",
      "unique한 year:  93\n",
      "unique한 year 출력:  [1922. 1923. 1924. 1925. 1926. 1927. 1928. 1929. 1930. 1931. 1932. 1933.\n",
      " 1934. 1935. 1936. 1937. 1938. 1939. 1940. 1941. 1942. 1943. 1944. 1945.\n",
      " 1946. 1947. 1948. 1949. 1950. 1951. 1952. 1953. 1954. 1955. 1956. 1957.\n",
      " 1958. 1959. 1960. 1961. 1962. 1963. 1964. 1965. 1966. 1967. 1968. 1969.\n",
      " 1970. 1971. 1972. 1973. 1974. 1975. 1976. 1977. 1978. 1979. 1980. 1981.\n",
      " 1982. 1983. 1984. 1985. 1986. 1987. 1988. 1989. 1990. 1991. 1992. 1993.\n",
      " 1994. 1995. 1996. 1997. 1998. 1999. 2000. 2001. 2002. 2003. 2004. 2005.\n",
      " 2006. 2007. 2008. 2009. 2010. 2011. 2012. 2013. 2014.   nan]\n",
      "unique한 genre:  18\n",
      "unique한 genre 출력:  ['Action' 'Adventure' 'Drama' 'Sci-Fi' 'Crime' 'Thriller' 'Children'\n",
      " 'Animation' 'Fantasy' 'Horror' 'Mystery' 'Comedy' 'Romance' 'War'\n",
      " 'Musical' 'Documentary' 'Western' 'Film-Noir']\n"
     ]
    }
   ],
   "source": [
    "print(\"unique한 director: \", df['director'].nunique())\n",
    "print(\"unique한 writer: \", df['writer'].nunique())\n",
    "print(\"unique한 title: \", df['title'].nunique())\n",
    "print(\"unique한 year: \", df['year'].nunique())\n",
    "print(\"unique한 year 출력: \", np.sort(df['year'].unique()))\n",
    "print(\"unique한 genre: \", df['genre'].nunique())\n",
    "print(\"unique한 genre 출력: \", df['genre'].unique())"
   ]
  },
  {
   "cell_type": "code",
   "execution_count": 37,
   "metadata": {},
   "outputs": [
    {
     "name": "stderr",
     "output_type": "stream",
     "text": [
      "/tmp/ipykernel_290431/462003305.py:2: SettingWithCopyWarning: \n",
      "A value is trying to be set on a copy of a slice from a DataFrame.\n",
      "Try using .loc[row_indexer,col_indexer] = value instead\n",
      "\n",
      "See the caveats in the documentation: https://pandas.pydata.org/pandas-docs/stable/user_guide/indexing.html#returning-a-view-versus-a-copy\n",
      "  df_filtered['title_year'] = df_filtered['title'].str.extract(r'\\((\\d{4})\\)').astype(float)\n",
      "/tmp/ipykernel_290431/462003305.py:3: SettingWithCopyWarning: \n",
      "A value is trying to be set on a copy of a slice from a DataFrame.\n",
      "Try using .loc[row_indexer,col_indexer] = value instead\n",
      "\n",
      "See the caveats in the documentation: https://pandas.pydata.org/pandas-docs/stable/user_guide/indexing.html#returning-a-view-versus-a-copy\n",
      "  df_filtered['year_match'] = df_filtered['title_year'] == df_filtered['year']\n",
      "/tmp/ipykernel_290431/462003305.py:4: SettingWithCopyWarning: \n",
      "A value is trying to be set on a copy of a slice from a DataFrame.\n",
      "Try using .loc[row_indexer,col_indexer] = value instead\n",
      "\n",
      "See the caveats in the documentation: https://pandas.pydata.org/pandas-docs/stable/user_guide/indexing.html#returning-a-view-versus-a-copy\n",
      "  df_filtered['year_sub'] = df_filtered['title_year'] - df_filtered['year']\n"
     ]
    },
    {
     "name": "stdout",
     "output_type": "stream",
     "text": [
      "year_match\n",
      "True     48257206\n",
      "False         205\n",
      "Name: count, dtype: int64\n",
      "          year_match  year_sub                         title    year\n",
      "197743         False       NaN  Big Bang Theory, The (2007-)  2007.0\n",
      "262551         False       NaN  Big Bang Theory, The (2007-)  2007.0\n",
      "291995         False       NaN     Fawlty Towers (1975-1979)  1975.0\n",
      "309429         False       NaN     Fawlty Towers (1975-1979)  1975.0\n",
      "573526         False       NaN  Big Bang Theory, The (2007-)  2007.0\n",
      "...              ...       ...                           ...     ...\n",
      "47647124       False       NaN     Fawlty Towers (1975-1979)  1975.0\n",
      "47820962       False       NaN     Fawlty Towers (1975-1979)  1975.0\n",
      "47850540       False       NaN  Big Bang Theory, The (2007-)  2007.0\n",
      "48112834       False       NaN     Fawlty Towers (1975-1979)  1975.0\n",
      "48136497       False       NaN     Fawlty Towers (1975-1979)  1975.0\n",
      "\n",
      "[205 rows x 4 columns]\n"
     ]
    }
   ],
   "source": [
    "df_filtered = df.dropna(subset=['year'])\n",
    "df_filtered['title_year'] = df_filtered['title'].str.extract(r'\\((\\d{4})\\)').astype(float)\n",
    "df_filtered['year_match'] = df_filtered['title_year'] == df_filtered['year']\n",
    "df_filtered['year_sub'] = df_filtered['title_year'] - df_filtered['year']\n",
    "\n",
    "false_data = df_filtered[df_filtered['year_match'] == False]\n",
    "print(df_filtered['year_match'].value_counts())\n",
    "print(false_data[['year_match', 'year_sub', 'title', 'year']])"
   ]
  },
  {
   "cell_type": "code",
   "execution_count": 38,
   "metadata": {},
   "outputs": [
    {
     "name": "stderr",
     "output_type": "stream",
     "text": [
      "/tmp/ipykernel_290431/3669185918.py:2: SettingWithCopyWarning: \n",
      "A value is trying to be set on a copy of a slice from a DataFrame.\n",
      "Try using .loc[row_indexer,col_indexer] = value instead\n",
      "\n",
      "See the caveats in the documentation: https://pandas.pydata.org/pandas-docs/stable/user_guide/indexing.html#returning-a-view-versus-a-copy\n",
      "  df_filtered['title_year'] = df_filtered['title'].str.extract(r'\\((\\d{4})[-\\d]*\\)').astype(float)\n",
      "/tmp/ipykernel_290431/3669185918.py:3: SettingWithCopyWarning: \n",
      "A value is trying to be set on a copy of a slice from a DataFrame.\n",
      "Try using .loc[row_indexer,col_indexer] = value instead\n",
      "\n",
      "See the caveats in the documentation: https://pandas.pydata.org/pandas-docs/stable/user_guide/indexing.html#returning-a-view-versus-a-copy\n",
      "  df_filtered['year_match'] = df_filtered['title_year'] == df_filtered['year']\n"
     ]
    },
    {
     "name": "stdout",
     "output_type": "stream",
     "text": [
      "year_match\n",
      "True    48257411\n",
      "Name: count, dtype: int64\n"
     ]
    }
   ],
   "source": [
    "df_filtered = df.dropna(subset=['year'])\n",
    "df_filtered['title_year'] = df_filtered['title'].str.extract(r'\\((\\d{4})[-\\d]*\\)').astype(float)\n",
    "df_filtered['year_match'] = df_filtered['title_year'] == df_filtered['year']\n",
    "print(df_filtered['year_match'].value_counts())"
   ]
  },
  {
   "cell_type": "code",
   "execution_count": 39,
   "metadata": {},
   "outputs": [
    {
     "name": "stdout",
     "output_type": "stream",
     "text": [
      "year_sub\n",
      "0.0    48257411\n",
      "Name: count, dtype: int64\n"
     ]
    },
    {
     "name": "stderr",
     "output_type": "stream",
     "text": [
      "/tmp/ipykernel_290431/2580316501.py:1: SettingWithCopyWarning: \n",
      "A value is trying to be set on a copy of a slice from a DataFrame.\n",
      "Try using .loc[row_indexer,col_indexer] = value instead\n",
      "\n",
      "See the caveats in the documentation: https://pandas.pydata.org/pandas-docs/stable/user_guide/indexing.html#returning-a-view-versus-a-copy\n",
      "  df_filtered['year_sub'] = df_filtered['title_year'] - df_filtered['year']\n"
     ]
    }
   ],
   "source": [
    "df_filtered['year_sub'] = df_filtered['title_year'] - df_filtered['year']\n",
    "print(df_filtered['year_sub'].value_counts())"
   ]
  },
  {
   "cell_type": "code",
   "execution_count": 40,
   "metadata": {},
   "outputs": [
    {
     "name": "stdout",
     "output_type": "stream",
     "text": [
      "has_year_pattern\n",
      "True    48257411\n",
      "Name: count, dtype: int64\n"
     ]
    },
    {
     "name": "stderr",
     "output_type": "stream",
     "text": [
      "/tmp/ipykernel_290431/2612427621.py:1: SettingWithCopyWarning: \n",
      "A value is trying to be set on a copy of a slice from a DataFrame.\n",
      "Try using .loc[row_indexer,col_indexer] = value instead\n",
      "\n",
      "See the caveats in the documentation: https://pandas.pydata.org/pandas-docs/stable/user_guide/indexing.html#returning-a-view-versus-a-copy\n",
      "  df_filtered['has_year_pattern'] = df_filtered['title'].str.contains(r'\\(\\d{4}\\)', regex=True) | \\\n"
     ]
    }
   ],
   "source": [
    "df_filtered['has_year_pattern'] = df_filtered['title'].str.contains(r'\\(\\d{4}\\)', regex=True) | \\\n",
    "                                  df_filtered['title'].str.contains(r'\\(\\d{4}-\\d{4}\\)', regex=True) | \\\n",
    "                                  df_filtered['title'].str.contains(r'\\(\\d{4}-\\)', regex=True)\n",
    "                                  \n",
    "print(df_filtered['has_year_pattern'].value_counts())"
   ]
  },
  {
   "cell_type": "code",
   "execution_count": 41,
   "metadata": {},
   "outputs": [],
   "source": [
    "user_dt = train_rating.copy()\n",
    "user_dt['timestamp'] = pd.to_datetime(user_dt['time'], unit='s')\n",
    "user_dt['user_year'] = user_dt['timestamp'].dt.year\n",
    "user_dt['user_month'] = user_dt['timestamp'].dt.month\n",
    "user_dt['user_day_of_week'] = user_dt['timestamp'].dt.dayofweek\n",
    "user_dt['user_hour'] = user_dt['timestamp'].dt.hour\n",
    "\n",
    "df_1 = pd.merge(user_dt, title, on='item', how='left')\n",
    "df_2 = pd.merge(df_1, year, on='item', how='left')\n",
    "df_3 = pd.merge(df_2, genre, on='item', how='left')\n",
    "df_4 = pd.merge(df_3, director, on='item', how='left')\n",
    "df_final = pd.merge(df_4, writer, on='item', how='left')"
   ]
  },
  {
   "cell_type": "code",
   "execution_count": 42,
   "metadata": {},
   "outputs": [
    {
     "name": "stdout",
     "output_type": "stream",
     "text": [
      "   user  item        time           timestamp  user_year  user_month  \\\n",
      "0    11  4643  1230782529 2009-01-01 04:02:09       2009           1   \n",
      "1    11  4643  1230782529 2009-01-01 04:02:09       2009           1   \n",
      "2    11  4643  1230782529 2009-01-01 04:02:09       2009           1   \n",
      "3    11  4643  1230782529 2009-01-01 04:02:09       2009           1   \n",
      "4    11  4643  1230782529 2009-01-01 04:02:09       2009           1   \n",
      "\n",
      "   user_day_of_week  user_hour                      title    year      genre  \\\n",
      "0                 3          4  Planet of the Apes (2001)  2001.0     Action   \n",
      "1                 3          4  Planet of the Apes (2001)  2001.0     Action   \n",
      "2                 3          4  Planet of the Apes (2001)  2001.0     Action   \n",
      "3                 3          4  Planet of the Apes (2001)  2001.0     Action   \n",
      "4                 3          4  Planet of the Apes (2001)  2001.0  Adventure   \n",
      "\n",
      "    director     writer  \n",
      "0  nm0000318  nm0099541  \n",
      "1  nm0000318  nm0115310  \n",
      "2  nm0000318  nm0465199  \n",
      "3  nm0000318  nm0742797  \n",
      "4  nm0000318  nm0099541  \n"
     ]
    }
   ],
   "source": [
    "print(df_final.head())"
   ]
  },
  {
   "cell_type": "code",
   "execution_count": 43,
   "metadata": {},
   "outputs": [
    {
     "name": "stdout",
     "output_type": "stream",
     "text": [
      "<class 'pandas.core.frame.DataFrame'>\n",
      "RangeIndex: 48264331 entries, 0 to 48264330\n",
      "Data columns (total 13 columns):\n",
      " #   Column            Dtype         \n",
      "---  ------            -----         \n",
      " 0   user              int64         \n",
      " 1   item              int64         \n",
      " 2   time              int64         \n",
      " 3   timestamp         datetime64[ns]\n",
      " 4   user_year         int32         \n",
      " 5   user_month        int32         \n",
      " 6   user_day_of_week  int32         \n",
      " 7   user_hour         int32         \n",
      " 8   title             object        \n",
      " 9   year              float64       \n",
      " 10  genre             object        \n",
      " 11  director          object        \n",
      " 12  writer            object        \n",
      "dtypes: datetime64[ns](1), float64(1), int32(4), int64(3), object(4)\n",
      "memory usage: 4.0+ GB\n",
      "None\n"
     ]
    }
   ],
   "source": [
    "print(df_final.info())"
   ]
  },
  {
   "cell_type": "code",
   "execution_count": 46,
   "metadata": {},
   "outputs": [
    {
     "data": {
      "image/png": "[encoded data removed]",
      "text/plain": [
       "<Figure size 640x480 with 1 Axes>"
      ]
     },
     "metadata": {},
     "output_type": "display_data"
    }
   ],
   "source": [
    "df_final['user'].value_counts().plot(\n",
    "    kind='hist',\n",
    "    bins=50,\n",
    "    color='skyblue',\n",
    "    edgecolor='black',\n",
    "    title='User Activity Distribution'\n",
    ")\n",
    "\n",
    "# 제목 및 축 레이블 설정\n",
    "plt.title('User Activity Distribution', fontsize=16)  # 그래프 제목\n",
    "plt.xlabel('Number of Interactions (Per User)', fontsize=14)  # X축 레이블\n",
    "plt.ylabel('Number of Users', fontsize=14)  # Y축 레이블\n",
    "\n",
    "# 눈금 글꼴 크기 조정\n",
    "plt.xticks(fontsize=12)\n",
    "plt.yticks(fontsize=12)\n",
    "\n",
    "# 그리드 추가\n",
    "plt.grid(axis='y', linestyle='--', alpha=0.7)\n",
    "\n",
    "# 그래프 표시\n",
    "plt.show()"
   ]
  },
  {
   "cell_type": "code",
   "execution_count": 47,
   "metadata": {},
   "outputs": [
    {
     "data": {
      "image/png": "[encoded data removed]",
      "text/plain": [
       "<Figure size 640x480 with 1 Axes>"
      ]
     },
     "metadata": {},
     "output_type": "display_data"
    }
   ],
   "source": [
    "df_final['item'].value_counts().plot(\n",
    "    kind='hist',\n",
    "    bins=50,\n",
    "    color='salmon',\n",
    "    edgecolor='black',\n",
    "    title='Item Popularity Distribution'\n",
    ")\n",
    "\n",
    "plt.title('Item Popularity Distribution', fontsize=16)\n",
    "plt.xlabel('Number of Interactions Per Item', fontsize=14)\n",
    "plt.ylabel('Number of Items', fontsize=14)\n",
    "\n",
    "plt.xticks(fontsize=12)\n",
    "plt.yticks(fontsize=12)\n",
    "\n",
    "plt.grid(axis='y', linestyle='--', alpha=0.7)\n",
    "\n",
    "plt.show()"
   ]
  }
 ],
 "metadata": {
  "kernelspec": {
   "display_name": "aistages",
   "language": "python",
   "name": "python3"
  },
  "language_info": {
   "codemirror_mode": {
    "name": "ipython",
    "version": 3
   },
   "file_extension": ".py",
   "mimetype": "text/x-python",
   "name": "python",
   "nbconvert_exporter": "python",
   "pygments_lexer": "ipython3",
   "version": "3.10.15"
  }
 },
 "nbformat": 4,
 "nbformat_minor": 2
}
