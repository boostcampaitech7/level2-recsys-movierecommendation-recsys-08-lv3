{
 "cells": [
  {
   "cell_type": "code",
   "execution_count": 15,
   "metadata": {},
   "outputs": [],
   "source": [
    "import os\n",
    "import pandas as pd\n",
    "import matplotlib.pyplot as plt\n",
    "from typing import Tuple"
   ]
  },
  {
   "cell_type": "code",
   "execution_count": 23,
   "metadata": {},
   "outputs": [],
   "source": [
    "def load_data(data_path: str) -> Tuple[pd.DataFrame, pd.DataFrame, pd.DataFrame, pd.DataFrame, pd.DataFrame, pd.DataFrame]:\n",
    "\t\"\"\"\n",
    "\t데이터 로드 함수. 지정된 경로에서 데이터를 읽어옵니다.\n",
    "\n",
    "\tArgs:\n",
    "\t\tdata_path (str): 데이터 파일들이 저장된 디렉토리 경로.\n",
    "\n",
    "\tReturns:\n",
    "\t\tTuple[pd.DataFrame, pd.DataFrame, pd.DataFrame, pd.DataFrame, pd.DataFrame, pd.DataFrame]:\n",
    "\t\t\t- 사용자-아이템 상호작용 데이터 (train_ratings.csv)\n",
    "\t\t\t- 영화 제목 데이터 (titles.tsv)\n",
    "\t\t\t- 영화 개봉 연도 데이터 (years.tsv)\n",
    "\t\t\t- 영화 감독 데이터 (directors.tsv)\n",
    "\t\t\t- 영화 장르 데이터 (genres.tsv)\n",
    "\t\t\t- 영화 작가 데이터 (writers.tsv)\n",
    "\t\"\"\"\n",
    "\t# 사용자-아이템 상호작용 데이터 로드\n",
    "\ttrain_rating = pd.read_csv(os.path.join(data_path, \"train_ratings.csv\"))\n",
    "\n",
    "\t# 영화 제목 데이터 로드\n",
    "\ttitle = pd.read_csv(os.path.join(data_path, \"titles.tsv\"), sep='\\t')\n",
    "\n",
    "\t# 영화 개봉 연도 데이터 로드\n",
    "\tyear = pd.read_csv(os.path.join(data_path, \"years.tsv\"), sep='\\t')\n",
    "\n",
    "\t# 영화 감독 데이터 로드\n",
    "\tdirector = pd.read_csv(os.path.join(data_path, \"directors.tsv\"), sep='\\t')\n",
    "\n",
    "\t# 영화 장르 데이터 로드\n",
    "\tgenre = pd.read_csv(os.path.join(data_path, \"genres.tsv\"), sep='\\t')\n",
    "\n",
    "\t# 영화 작가 데이터 로드\n",
    "\twriter = pd.read_csv(os.path.join(data_path, \"writers.tsv\"), sep='\\t')\n",
    "\n",
    "\treturn train_rating, title, year, director, genre, writer"
   ]
  },
  {
   "cell_type": "code",
   "execution_count": 55,
   "metadata": {},
   "outputs": [],
   "source": [
    "def preprocess_genres(genres: pd.DataFrame) -> pd.DataFrame:\n",
    "\t\"\"\"\n",
    "\t영화별 장르 데이터를 하나의 행으로 병합합니다.\n",
    "\n",
    "\tArgs:\n",
    "\t\tgenres (pd.DataFrame): 분리된 장르 데이터.\n",
    "\n",
    "\tReturns:\n",
    "\t\tpd.DataFrame: 병합된 장르 데이터.\n",
    "\t\"\"\"\n",
    "\tmerged_genres = genres.groupby(\"item\")[\"genre\"].apply(\",\".join).reset_index()\n",
    "\treturn merged_genres"
   ]
  },
  {
   "cell_type": "code",
   "execution_count": 60,
   "metadata": {},
   "outputs": [],
   "source": [
    "def preprocess_writers(writers: pd.DataFrame) -> pd.DataFrame:\n",
    "\t\"\"\"\n",
    "\t영화별 장르 데이터를 하나의 행으로 병합합니다.\n",
    "\n",
    "\tArgs:\n",
    "\t\tgenres (pd.DataFrame): 분리된 장르 데이터.\n",
    "\n",
    "\tReturns:\n",
    "\t\tpd.DataFrame: 병합된 장르 데이터.\n",
    "\t\"\"\"\n",
    "\tmerged_writers = writers.groupby(\"item\")[\"writer\"].apply(\",\".join).reset_index()\n",
    "\treturn merged_writers"
   ]
  },
  {
   "cell_type": "code",
   "execution_count": 64,
   "metadata": {},
   "outputs": [],
   "source": [
    "def preprocess_directors(directors: pd.DataFrame) -> pd.DataFrame:\n",
    "\t\"\"\"\n",
    "\t영화별 장르 데이터를 하나의 행으로 병합합니다.\n",
    "\n",
    "\tArgs:\n",
    "\t\tgenres (pd.DataFrame): 분리된 장르 데이터.\n",
    "\n",
    "\tReturns:\n",
    "\t\tpd.DataFrame: 병합된 장르 데이터.\n",
    "\t\"\"\"\n",
    "\tmerged_directors = directors.groupby(\"item\")[\"director\"].apply(\",\".join).reset_index()\n",
    "\treturn merged_directors"
   ]
  },
  {
   "cell_type": "code",
   "execution_count": 71,
   "metadata": {},
   "outputs": [],
   "source": [
    "def preprocess_data(ratings: pd.DataFrame, genres: pd.DataFrame, directors: pd.DataFrame, writers: pd.DataFrame, years: pd.DataFrame) -> pd.DataFrame:\n",
    "\t\"\"\"\n",
    "\t사용자-아이템 데이터와 메타데이터를 결합합니다.\n",
    "\n",
    "\tArgs:\n",
    "\t\tratings (pd.DataFrame): 사용자-아이템 상호작용 데이터.\n",
    "\t\tgenres (pd.DataFrame): 장르 데이터.\n",
    "\t\tdirectors (pd.DataFrame): 감독 데이터.\n",
    "\t\twriters (pd.DataFrame): 작가 데이터.\n",
    "\t\tyears (pd.DataFrame): 개봉 연도 데이터.\n",
    "\n",
    "\tReturns:\n",
    "\t\tpd.DataFrame: 결합된 데이터.\n",
    "\t\"\"\"\n",
    "\t# 장르 병합\n",
    "\tmerged_genres = preprocess_genres(genres)\n",
    "\tmerged_writers = preprocess_writers(writers)\n",
    "\tmerged_directors = preprocess_directors(directors)\n",
    "\n",
    "\t# 사용자-아이템 데이터와 장르 데이터 병합\n",
    "\tdata = ratings.merge(merged_genres, on=\"item\", how=\"left\")\n",
    "\tdata = data.merge(merged_directors, on=\"item\", how=\"left\")\n",
    "\tdata = data.merge(merged_writers, on=\"item\", how=\"left\")\n",
    "\tdata = data.merge(years, on=\"item\", how=\"left\")\n",
    "\n",
    "\t# 시간 순서로 정렬\n",
    "\tdata[\"time\"] = pd.to_datetime(data[\"time\"], unit=\"s\")\n",
    "\tdata = data.sort_values(by=[\"user\", \"time\"])\n",
    "\treturn data"
   ]
  },
  {
   "cell_type": "code",
   "execution_count": 66,
   "metadata": {},
   "outputs": [
    {
     "name": "stdout",
     "output_type": "stream",
     "text": [
      "INFO: Pandarallel will run on 8 workers.\n",
      "INFO: Pandarallel will use Memory file system to transfer data between the main process and workers.\n"
     ]
    }
   ],
   "source": [
    "from pandarallel import pandarallel\n",
    "\n",
    "# Pandarallel 초기화\n",
    "pandarallel.initialize(progress_bar=True)\n",
    "\n",
    "def calculate_similarity_optimized(data: pd.DataFrame) -> pd.DataFrame:\n",
    "\t\"\"\"\n",
    "\t연속적인 영화 선택 간 공통점을 병렬 처리로 계산합니다.\n",
    "\n",
    "\tArgs:\n",
    "\t\tdata (pd.DataFrame): 사용자-아이템 및 메타데이터 결합 데이터.\n",
    "\n",
    "\tReturns:\n",
    "\t\tpd.DataFrame: 사용자-아이템 간 공통점 계산 결과.\n",
    "\t\"\"\"\n",
    "\tdata[\"next_item\"] = data.groupby(\"user\")[\"item\"].shift(-1)\n",
    "\tdata[\"next_genre\"] = data.groupby(\"user\")[\"genre\"].shift(-1)\n",
    "\tdata[\"next_director\"] = data.groupby(\"user\")[\"director\"].shift(-1)\n",
    "\tdata[\"next_writer\"] = data.groupby(\"user\")[\"writer\"].shift(-1)\n",
    "\tdata[\"next_year\"] = data.groupby(\"user\")[\"year\"].shift(-1)\n",
    "\n",
    "\t# 공통점 계산 병렬 처리\n",
    "\tdata[\"common_genres\"] = data.parallel_apply(\n",
    "\t\tlambda row: len(set(str(row[\"genre\"]).split(\",\")).intersection(set(str(row[\"next_genre\"]).split(\",\")))),\n",
    "\t\taxis=1,\n",
    "\t)\n",
    "\tdata[\"same_director\"] = data[\"director\"] == data[\"next_director\"]\n",
    "\tdata[\"same_writer\"] = data[\"writer\"] == data[\"next_writer\"]\n",
    "\tdata[\"same_year\"] = data[\"year\"] == data[\"next_year\"]\n",
    "\n",
    "\t# 결과 필터링\n",
    "\treturn data.dropna(subset=[\"next_item\"])[\n",
    "\t\t[\"user\", \"item\", \"next_item\", \"common_genres\", \"same_director\", \"same_writer\", \"same_year\"]\n",
    "\t]"
   ]
  },
  {
   "cell_type": "code",
   "execution_count": 67,
   "metadata": {},
   "outputs": [],
   "source": [
    "def analyze_similarity(similarity_data: pd.DataFrame) -> None:\n",
    "\t\"\"\"\n",
    "\t공통점 분석 결과를 시각화합니다.\n",
    "\n",
    "\tArgs:\n",
    "\t\tsimilarity_data (pd.DataFrame): 사용자-아이템 간 공통점 데이터.\n",
    "\t\"\"\"\n",
    "\tprint(\"Average number of common genres:\", similarity_data[\"common_genres\"].mean())\n",
    "\tprint(\"Proportion of same director:\", similarity_data[\"same_director\"].mean())\n",
    "\tprint(\"Proportion of same writer:\", similarity_data[\"same_writer\"].mean())\n",
    "\tprint(\"Proportion of same year:\", similarity_data[\"same_year\"].mean())"
   ]
  },
  {
   "cell_type": "code",
   "execution_count": 68,
   "metadata": {},
   "outputs": [
    {
     "data": {
      "application/vnd.jupyter.widget-view+json": {
       "model_id": "59ef5d4e18604ac19010079b9ac0e262",
       "version_major": 2,
       "version_minor": 0
      },
      "text/plain": [
       "VBox(children=(HBox(children=(IntProgress(value=0, description='0.00%', max=644309), Label(value='0 / 644309')…"
      ]
     },
     "metadata": {},
     "output_type": "display_data"
    },
    {
     "name": "stdout",
     "output_type": "stream",
     "text": [
      "Average number of common genres: 0.9312554422498361\n",
      "Proportion of same director: 0.02606580259533709\n",
      "Proportion of same writer: 0.011641754394936983\n",
      "Proportion of same year: 0.08217038436215807\n"
     ]
    }
   ],
   "source": [
    "if __name__ == \"__main__\":\n",
    "\t# 데이터 경로 설정\n",
    "\tdata_path = \"/data/ephemeral/home/kim/level2-recsys-movierecommendation-recsys-08-lv3/data/train/\"\n",
    "\n",
    "\t# 데이터 로드 및 전처리\n",
    "\tratings, title, year, director, genre, writer = load_data(data_path)\n",
    "\tmerged_data = preprocess_data(ratings, genre, director, writer, year)\n",
    "\n",
    "\t# tqdm 또는 verbose 버전으로 진행률 확인\n",
    "\tsimilarity_data = calculate_similarity_optimized(merged_data)\n",
    "\n",
    "\t# 분석 및 결과 출력\n",
    "\tanalyze_similarity(similarity_data)"
   ]
  },
  {
   "cell_type": "code",
   "execution_count": null,
   "metadata": {},
   "outputs": [
    {
     "data": {
      "text/html": [
       "<div>\n",
       "<style scoped>\n",
       "    .dataframe tbody tr th:only-of-type {\n",
       "        vertical-align: middle;\n",
       "    }\n",
       "\n",
       "    .dataframe tbody tr th {\n",
       "        vertical-align: top;\n",
       "    }\n",
       "\n",
       "    .dataframe thead th {\n",
       "        text-align: right;\n",
       "    }\n",
       "</style>\n",
       "<table border=\"1\" class=\"dataframe\">\n",
       "  <thead>\n",
       "    <tr style=\"text-align: right;\">\n",
       "      <th></th>\n",
       "      <th>user</th>\n",
       "      <th>item</th>\n",
       "      <th>time</th>\n",
       "      <th>genre</th>\n",
       "      <th>director</th>\n",
       "      <th>writer</th>\n",
       "      <th>year</th>\n",
       "      <th>next_item</th>\n",
       "      <th>next_genre</th>\n",
       "      <th>next_director</th>\n",
       "      <th>next_writer</th>\n",
       "      <th>next_year</th>\n",
       "      <th>common_genres</th>\n",
       "      <th>same_director</th>\n",
       "      <th>same_writer</th>\n",
       "      <th>same_year</th>\n",
       "    </tr>\n",
       "  </thead>\n",
       "  <tbody>\n",
       "    <tr>\n",
       "      <th>0</th>\n",
       "      <td>11</td>\n",
       "      <td>4643</td>\n",
       "      <td>2009-01-01 04:02:09</td>\n",
       "      <td>Action,Adventure,Drama,Sci-Fi</td>\n",
       "      <td>nm0000318</td>\n",
       "      <td>nm0099541,nm0115310,nm0465199,nm0742797</td>\n",
       "      <td>2001.0</td>\n",
       "      <td>170.0</td>\n",
       "      <td>Action,Adventure,Crime,Thriller</td>\n",
       "      <td>nm0812200</td>\n",
       "      <td>NaN</td>\n",
       "      <td>1995.0</td>\n",
       "      <td>2</td>\n",
       "      <td>False</td>\n",
       "      <td>False</td>\n",
       "      <td>False</td>\n",
       "    </tr>\n",
       "    <tr>\n",
       "      <th>1</th>\n",
       "      <td>11</td>\n",
       "      <td>170</td>\n",
       "      <td>2009-01-01 04:02:14</td>\n",
       "      <td>Action,Adventure,Crime,Thriller</td>\n",
       "      <td>nm0812200</td>\n",
       "      <td>NaN</td>\n",
       "      <td>1995.0</td>\n",
       "      <td>531.0</td>\n",
       "      <td>Children,Drama</td>\n",
       "      <td>nm0002140</td>\n",
       "      <td>nm0003031,nm0122364</td>\n",
       "      <td>1993.0</td>\n",
       "      <td>0</td>\n",
       "      <td>False</td>\n",
       "      <td>False</td>\n",
       "      <td>False</td>\n",
       "    </tr>\n",
       "    <tr>\n",
       "      <th>2</th>\n",
       "      <td>11</td>\n",
       "      <td>531</td>\n",
       "      <td>2009-01-01 04:02:19</td>\n",
       "      <td>Children,Drama</td>\n",
       "      <td>nm0002140</td>\n",
       "      <td>nm0003031,nm0122364</td>\n",
       "      <td>1993.0</td>\n",
       "      <td>616.0</td>\n",
       "      <td>Animation,Children</td>\n",
       "      <td>nm0718627</td>\n",
       "      <td>nm0027011,nm0166307,nm0166551,nm0314788,nm0841...</td>\n",
       "      <td>1970.0</td>\n",
       "      <td>1</td>\n",
       "      <td>False</td>\n",
       "      <td>False</td>\n",
       "      <td>False</td>\n",
       "    </tr>\n",
       "    <tr>\n",
       "      <th>3</th>\n",
       "      <td>11</td>\n",
       "      <td>616</td>\n",
       "      <td>2009-01-01 04:02:22</td>\n",
       "      <td>Animation,Children</td>\n",
       "      <td>nm0718627</td>\n",
       "      <td>nm0027011,nm0166307,nm0166551,nm0314788,nm0841...</td>\n",
       "      <td>1970.0</td>\n",
       "      <td>2140.0</td>\n",
       "      <td>Adventure,Fantasy</td>\n",
       "      <td>nm0000568</td>\n",
       "      <td>nm0001345,nm0643973</td>\n",
       "      <td>1982.0</td>\n",
       "      <td>0</td>\n",
       "      <td>False</td>\n",
       "      <td>False</td>\n",
       "      <td>False</td>\n",
       "    </tr>\n",
       "    <tr>\n",
       "      <th>4</th>\n",
       "      <td>11</td>\n",
       "      <td>2140</td>\n",
       "      <td>2009-01-01 04:02:43</td>\n",
       "      <td>Adventure,Fantasy</td>\n",
       "      <td>nm0000568</td>\n",
       "      <td>nm0001345,nm0643973</td>\n",
       "      <td>1982.0</td>\n",
       "      <td>2140.0</td>\n",
       "      <td>Adventure,Fantasy</td>\n",
       "      <td>nm0001345</td>\n",
       "      <td>nm0001345,nm0643973</td>\n",
       "      <td>1982.0</td>\n",
       "      <td>2</td>\n",
       "      <td>False</td>\n",
       "      <td>True</td>\n",
       "      <td>True</td>\n",
       "    </tr>\n",
       "  </tbody>\n",
       "</table>\n",
       "</div>"
      ],
      "text/plain": [
       "   user  item                time                            genre   director  \\\n",
       "0    11  4643 2009-01-01 04:02:09    Action,Adventure,Drama,Sci-Fi  nm0000318   \n",
       "1    11   170 2009-01-01 04:02:14  Action,Adventure,Crime,Thriller  nm0812200   \n",
       "2    11   531 2009-01-01 04:02:19                   Children,Drama  nm0002140   \n",
       "3    11   616 2009-01-01 04:02:22               Animation,Children  nm0718627   \n",
       "4    11  2140 2009-01-01 04:02:43                Adventure,Fantasy  nm0000568   \n",
       "\n",
       "                                              writer    year  next_item  \\\n",
       "0            nm0099541,nm0115310,nm0465199,nm0742797  2001.0      170.0   \n",
       "1                                                NaN  1995.0      531.0   \n",
       "2                                nm0003031,nm0122364  1993.0      616.0   \n",
       "3  nm0027011,nm0166307,nm0166551,nm0314788,nm0841...  1970.0     2140.0   \n",
       "4                                nm0001345,nm0643973  1982.0     2140.0   \n",
       "\n",
       "                        next_genre next_director  \\\n",
       "0  Action,Adventure,Crime,Thriller     nm0812200   \n",
       "1                   Children,Drama     nm0002140   \n",
       "2               Animation,Children     nm0718627   \n",
       "3                Adventure,Fantasy     nm0000568   \n",
       "4                Adventure,Fantasy     nm0001345   \n",
       "\n",
       "                                         next_writer  next_year  \\\n",
       "0                                                NaN     1995.0   \n",
       "1                                nm0003031,nm0122364     1993.0   \n",
       "2  nm0027011,nm0166307,nm0166551,nm0314788,nm0841...     1970.0   \n",
       "3                                nm0001345,nm0643973     1982.0   \n",
       "4                                nm0001345,nm0643973     1982.0   \n",
       "\n",
       "   common_genres  same_director  same_writer  same_year  \n",
       "0              2          False        False      False  \n",
       "1              0          False        False      False  \n",
       "2              1          False        False      False  \n",
       "3              0          False        False      False  \n",
       "4              2          False         True       True  "
      ]
     },
     "execution_count": 62,
     "metadata": {},
     "output_type": "execute_result"
    }
   ],
   "source": [
    "merged_data.head()"
   ]
  },
  {
   "cell_type": "code",
   "execution_count": 69,
   "metadata": {},
   "outputs": [
    {
     "data": {
      "text/plain": [
       "(5154471, 16)"
      ]
     },
     "execution_count": 69,
     "metadata": {},
     "output_type": "execute_result"
    }
   ],
   "source": [
    "merged_data.shape"
   ]
  },
  {
   "cell_type": "code",
   "execution_count": 84,
   "metadata": {},
   "outputs": [
    {
     "name": "stdout",
     "output_type": "stream",
     "text": [
      "INFO: Pandarallel will run on 8 workers.\n",
      "INFO: Pandarallel will use Memory file system to transfer data between the main process and workers.\n"
     ]
    }
   ],
   "source": [
    "from sklearn.feature_extraction.text import TfidfVectorizer\n",
    "from sklearn.metrics.pairwise import cosine_similarity\n",
    "from pandarallel import pandarallel\n",
    "\n",
    "# Pandarallel 초기화\n",
    "pandarallel.initialize(progress_bar=True)\n",
    "\n",
    "def calculate_tfidf_similarity_parallel(data: pd.DataFrame, title_data: pd.DataFrame) -> pd.DataFrame:\n",
    "    \"\"\"\n",
    "    영화 제목 간 TF-IDF 기반 유사성을 병렬 처리로 계산합니다.\n",
    "\n",
    "    Args:\n",
    "        data (pd.DataFrame): 사용자-아이템 및 메타데이터 결합 데이터.\n",
    "        title_data (pd.DataFrame): 영화 제목 데이터.\n",
    "\n",
    "    Returns:\n",
    "        pd.DataFrame: 사용자-아이템 간 제목 유사성 결과.\n",
    "    \"\"\"\n",
    "    # 제목 데이터 병합\n",
    "    data = data.merge(title_data, on=\"item\", how=\"left\", suffixes=(\"\", \"_current\"))\n",
    "    data[\"next_title\"] = data.groupby(\"user\")[\"title\"].shift(-1)\n",
    "\n",
    "    # 중복 제거한 제목 리스트 생성\n",
    "    all_titles = pd.concat([data[\"title\"], data[\"next_title\"]]).dropna().unique()\n",
    "\n",
    "    # TF-IDF 벡터화\n",
    "    vectorizer = TfidfVectorizer()\n",
    "    tfidf_matrix = vectorizer.fit_transform(all_titles)\n",
    "\n",
    "    # 제목과 인덱스 매핑\n",
    "    title_to_index = {title: idx for idx, title in enumerate(all_titles)}\n",
    "\n",
    "    def compute_similarity(row):\n",
    "        \"\"\"\n",
    "        개별 행에 대해 TF-IDF 유사성을 계산합니다.\n",
    "        \"\"\"\n",
    "        if pd.isnull(row[\"next_title\"]):\n",
    "            return 0\n",
    "        title_idx = title_to_index[row[\"title\"]]\n",
    "        next_title_idx = title_to_index[row[\"next_title\"]]\n",
    "        return cosine_similarity(tfidf_matrix[title_idx], tfidf_matrix[next_title_idx]).flatten()[0]\n",
    "\n",
    "    # 병렬 처리로 유사성 계산\n",
    "    data[\"title_similarity\"] = data.parallel_apply(compute_similarity, axis=1)\n",
    "\n",
    "    return data[[\"user\", \"item\", \"title\", \"next_title\", \"title_similarity\"]].dropna()\n"
   ]
  },
  {
   "cell_type": "code",
   "execution_count": 85,
   "metadata": {},
   "outputs": [
    {
     "data": {
      "application/vnd.jupyter.widget-view+json": {
       "model_id": "6bfef4cbacfa4961bf72b7df525ce142",
       "version_major": 2,
       "version_minor": 0
      },
      "text/plain": [
       "VBox(children=(HBox(children=(IntProgress(value=0, description='0.00%', max=644309), Label(value='0 / 644309')…"
      ]
     },
     "metadata": {},
     "output_type": "display_data"
    },
    {
     "name": "stdout",
     "output_type": "stream",
     "text": [
      "   user  item                      title                 next_title  \\\n",
      "0    11  4643  Planet of the Apes (2001)             Hackers (1995)   \n",
      "1    11   170             Hackers (1995)  Secret Garden, The (1993)   \n",
      "2    11   531  Secret Garden, The (1993)     Aristocats, The (1970)   \n",
      "3    11   616     Aristocats, The (1970)   Dark Crystal, The (1982)   \n",
      "4    11  2140   Dark Crystal, The (1982)       Deep Blue Sea (1999)   \n",
      "\n",
      "   title_similarity  \n",
      "0          0.000000  \n",
      "1          0.000000  \n",
      "2          0.034539  \n",
      "3          0.033777  \n",
      "4          0.000000  \n"
     ]
    }
   ],
   "source": [
    "if __name__ == \"__main__\":\n",
    "    # 데이터 경로 설정\n",
    "    data_path = \"/data/ephemeral/home/kim/level2-recsys-movierecommendation-recsys-08-lv3/data/train/\"\n",
    "\n",
    "    # 데이터 로드 및 전처리\n",
    "    ratings, title, year, director, genre, writer = load_data(data_path)\n",
    "    merged_data = preprocess_data(ratings, genre, director, writer, year)\n",
    "\n",
    "    # 제목 유사성 계산 (TF-IDF 기반)\n",
    "    title_similarity_data = calculate_tfidf_similarity_parallel(merged_data, title)\n",
    "\n",
    "    # 결과 확인\n",
    "    print(title_similarity_data.head())\n",
    "##\n"
   ]
  },
  {
   "cell_type": "code",
   "execution_count": 86,
   "metadata": {},
   "outputs": [],
   "source": [
    "import matplotlib.pyplot as plt\n",
    "\n",
    "def plot_title_similarity_histogram(similarity_data: pd.DataFrame) -> None:\n",
    "    \"\"\"\n",
    "    제목 유사성 분포를 히스토그램으로 시각화합니다.\n",
    "\n",
    "    Args:\n",
    "        similarity_data (pd.DataFrame): 제목 유사성을 포함한 데이터프레임.\n",
    "    \"\"\"\n",
    "    plt.figure(figsize=(10, 6))\n",
    "    plt.hist(similarity_data[\"title_similarity\"], bins=20, color=\"skyblue\", edgecolor=\"black\")\n",
    "    plt.title(\"Title Similarity Distribution\")\n",
    "    plt.xlabel(\"Similarity Score\")\n",
    "    plt.ylabel(\"Frequency\")\n",
    "    plt.grid(axis=\"y\", linestyle=\"--\", alpha=0.7)\n",
    "    plt.show()"
   ]
  },
  {
   "cell_type": "code",
   "execution_count": 87,
   "metadata": {},
   "outputs": [],
   "source": [
    "def plot_title_similarity_boxplot(similarity_data: pd.DataFrame) -> None:\n",
    "    \"\"\"\n",
    "    제목 유사성 분포를 박스플롯으로 시각화합니다.\n",
    "\n",
    "    Args:\n",
    "        similarity_data (pd.DataFrame): 제목 유사성을 포함한 데이터프레임.\n",
    "    \"\"\"\n",
    "    plt.figure(figsize=(8, 6))\n",
    "    plt.boxplot(similarity_data[\"title_similarity\"], vert=False, patch_artist=True, boxprops=dict(facecolor=\"lightblue\"))\n",
    "    plt.title(\"Title Similarity Boxplot\")\n",
    "    plt.xlabel(\"Similarity Score\")\n",
    "    plt.show()"
   ]
  },
  {
   "cell_type": "code",
   "execution_count": 88,
   "metadata": {},
   "outputs": [],
   "source": [
    "import seaborn as sns\n",
    "\n",
    "def plot_title_similarity_kde(similarity_data: pd.DataFrame) -> None:\n",
    "    \"\"\"\n",
    "    제목 유사성 분포를 KDE 플롯으로 시각화합니다.\n",
    "\n",
    "    Args:\n",
    "        similarity_data (pd.DataFrame): 제목 유사성을 포함한 데이터프레임.\n",
    "    \"\"\"\n",
    "    plt.figure(figsize=(10, 6))\n",
    "    sns.kdeplot(similarity_data[\"title_similarity\"], shade=True, color=\"blue\")\n",
    "    plt.title(\"Title Similarity Distribution (KDE)\")\n",
    "    plt.xlabel(\"Similarity Score\")\n",
    "    plt.ylabel(\"Density\")\n",
    "    plt.grid(axis=\"y\", linestyle=\"--\", alpha=0.7)\n",
    "    plt.show()"
   ]
  },
  {
   "cell_type": "code",
   "execution_count": null,
   "metadata": {},
   "outputs": [
    {
     "data": {
      "image/png": "[encoded data removed]",
      "text/plain": [
       "<Figure size 1000x600 with 1 Axes>"
      ]
     },
     "metadata": {},
     "output_type": "display_data"
    },
    {
     "data": {
      "image/png": "[encoded data removed]",
      "text/plain": [
       "<Figure size 800x600 with 1 Axes>"
      ]
     },
     "metadata": {},
     "output_type": "display_data"
    },
    {
     "name": "stderr",
     "output_type": "stream",
     "text": [
      "/tmp/ipykernel_383850/770692678.py:11: FutureWarning: \n",
      "\n",
      "`shade` is now deprecated in favor of `fill`; setting `fill=True`.\n",
      "This will become an error in seaborn v0.14.0; please update your code.\n",
      "\n",
      "  sns.kdeplot(similarity_data[\"title_similarity\"], shade=True, color=\"blue\")\n"
     ]
    },
    {
     "data": {
      "image/png": "[encoded data removed]",
      "text/plain": [
       "<Figure size 1000x600 with 1 Axes>"
      ]
     },
     "metadata": {},
     "output_type": "display_data"
    }
   ],
   "source": [
    "# 히스토그램\n",
    "plot_title_similarity_histogram(title_similarity_data)\n",
    "\n",
    "# 박스플롯\n",
    "plot_title_similarity_boxplot(title_similarity_data)\n",
    "\n",
    "# KDE 플롯\n",
    "plot_title_similarity_kde(title_similarity_data)"
   ]
  },
  {
   "cell_type": "code",
   "execution_count": 77,
   "metadata": {},
   "outputs": [
    {
     "data": {
      "text/html": [
       "<div>\n",
       "<style scoped>\n",
       "    .dataframe tbody tr th:only-of-type {\n",
       "        vertical-align: middle;\n",
       "    }\n",
       "\n",
       "    .dataframe tbody tr th {\n",
       "        vertical-align: top;\n",
       "    }\n",
       "\n",
       "    .dataframe thead th {\n",
       "        text-align: right;\n",
       "    }\n",
       "</style>\n",
       "<table border=\"1\" class=\"dataframe\">\n",
       "  <thead>\n",
       "    <tr style=\"text-align: right;\">\n",
       "      <th></th>\n",
       "      <th>user</th>\n",
       "      <th>item</th>\n",
       "      <th>time</th>\n",
       "      <th>genre</th>\n",
       "      <th>director</th>\n",
       "      <th>writer</th>\n",
       "      <th>year</th>\n",
       "    </tr>\n",
       "  </thead>\n",
       "  <tbody>\n",
       "    <tr>\n",
       "      <th>0</th>\n",
       "      <td>11</td>\n",
       "      <td>4643</td>\n",
       "      <td>2009-01-01 04:02:09</td>\n",
       "      <td>Action,Adventure,Drama,Sci-Fi</td>\n",
       "      <td>nm0000318</td>\n",
       "      <td>nm0099541,nm0115310,nm0465199,nm0742797</td>\n",
       "      <td>2001.0</td>\n",
       "    </tr>\n",
       "    <tr>\n",
       "      <th>1</th>\n",
       "      <td>11</td>\n",
       "      <td>170</td>\n",
       "      <td>2009-01-01 04:02:14</td>\n",
       "      <td>Action,Adventure,Crime,Thriller</td>\n",
       "      <td>nm0812200</td>\n",
       "      <td>NaN</td>\n",
       "      <td>1995.0</td>\n",
       "    </tr>\n",
       "    <tr>\n",
       "      <th>2</th>\n",
       "      <td>11</td>\n",
       "      <td>531</td>\n",
       "      <td>2009-01-01 04:02:19</td>\n",
       "      <td>Children,Drama</td>\n",
       "      <td>nm0002140</td>\n",
       "      <td>nm0003031,nm0122364</td>\n",
       "      <td>1993.0</td>\n",
       "    </tr>\n",
       "    <tr>\n",
       "      <th>3</th>\n",
       "      <td>11</td>\n",
       "      <td>616</td>\n",
       "      <td>2009-01-01 04:02:22</td>\n",
       "      <td>Animation,Children</td>\n",
       "      <td>nm0718627</td>\n",
       "      <td>nm0027011,nm0166307,nm0166551,nm0314788,nm0841...</td>\n",
       "      <td>1970.0</td>\n",
       "    </tr>\n",
       "    <tr>\n",
       "      <th>4</th>\n",
       "      <td>11</td>\n",
       "      <td>2140</td>\n",
       "      <td>2009-01-01 04:02:43</td>\n",
       "      <td>Adventure,Fantasy</td>\n",
       "      <td>nm0000568,nm0001345</td>\n",
       "      <td>nm0001345,nm0643973</td>\n",
       "      <td>1982.0</td>\n",
       "    </tr>\n",
       "  </tbody>\n",
       "</table>\n",
       "</div>"
      ],
      "text/plain": [
       "   user  item                time                            genre  \\\n",
       "0    11  4643 2009-01-01 04:02:09    Action,Adventure,Drama,Sci-Fi   \n",
       "1    11   170 2009-01-01 04:02:14  Action,Adventure,Crime,Thriller   \n",
       "2    11   531 2009-01-01 04:02:19                   Children,Drama   \n",
       "3    11   616 2009-01-01 04:02:22               Animation,Children   \n",
       "4    11  2140 2009-01-01 04:02:43                Adventure,Fantasy   \n",
       "\n",
       "              director                                             writer  \\\n",
       "0            nm0000318            nm0099541,nm0115310,nm0465199,nm0742797   \n",
       "1            nm0812200                                                NaN   \n",
       "2            nm0002140                                nm0003031,nm0122364   \n",
       "3            nm0718627  nm0027011,nm0166307,nm0166551,nm0314788,nm0841...   \n",
       "4  nm0000568,nm0001345                                nm0001345,nm0643973   \n",
       "\n",
       "     year  \n",
       "0  2001.0  \n",
       "1  1995.0  \n",
       "2  1993.0  \n",
       "3  1970.0  \n",
       "4  1982.0  "
      ]
     },
     "execution_count": 77,
     "metadata": {},
     "output_type": "execute_result"
    }
   ],
   "source": [
    "merged_data.head()"
   ]
  },
  {
   "cell_type": "code",
   "execution_count": null,
   "metadata": {},
   "outputs": [],
   "source": []
  }
 ],
 "metadata": {
  "kernelspec": {
   "display_name": "aistages",
   "language": "python",
   "name": "python3"
  },
  "language_info": {
   "codemirror_mode": {
    "name": "ipython",
    "version": 3
   },
   "file_extension": ".py",
   "mimetype": "text/x-python",
   "name": "python",
   "nbconvert_exporter": "python",
   "pygments_lexer": "ipython3",
   "version": "3.10.15"
  }
 },
 "nbformat": 4,
 "nbformat_minor": 2
}
